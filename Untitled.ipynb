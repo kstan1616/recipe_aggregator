{
 "cells": [
  {
   "cell_type": "code",
   "execution_count": 1,
   "metadata": {},
   "outputs": [],
   "source": [
    "import pandas as pd\n",
    "import os"
   ]
  },
  {
   "cell_type": "code",
   "execution_count": 2,
   "metadata": {},
   "outputs": [
    {
     "data": {
      "text/plain": [
       "'/Users/kstanley/recipe_aggregator'"
      ]
     },
     "execution_count": 2,
     "metadata": {},
     "output_type": "execute_result"
    }
   ],
   "source": [
    "os.getcwd()"
   ]
  },
  {
   "cell_type": "code",
   "execution_count": 3,
   "metadata": {},
   "outputs": [],
   "source": [
    "df = pd.read_csv('recipe_app/data/ingredient_list.csv',index_col=False, encoding='utf-8')"
   ]
  },
  {
   "cell_type": "code",
   "execution_count": 5,
   "metadata": {},
   "outputs": [],
   "source": [
    "from nltk.stem.wordnet import WordNetLemmatizer"
   ]
  },
  {
   "cell_type": "code",
   "execution_count": 6,
   "metadata": {},
   "outputs": [],
   "source": [
    "lmtzr = WordNetLemmatizer()"
   ]
  },
  {
   "cell_type": "code",
   "execution_count": 135,
   "metadata": {},
   "outputs": [],
   "source": [
    "# df[['ingredients', 'category']].to_csv('recipe_app/data/recipe_ingredients_new.csv')"
   ]
  },
  {
   "cell_type": "code",
   "execution_count": 137,
   "metadata": {},
   "outputs": [],
   "source": [
    "df = pd.read_csv('recipe_app/data/recipe_ingredients_new.csv',index_col=0, encoding='utf-8')"
   ]
  },
  {
   "cell_type": "code",
   "execution_count": null,
   "metadata": {},
   "outputs": [],
   "source": [
    "metrics = ['tablespoon', 'teaspoon', 'tbsp', 'tsp', 'cup', 'ounce', 'oz', \\\n",
    "           'quart', 'qt', 'pt', 'pint', 'gallon', 'gal', 'pount', 'lb', 'g', \\\n",
    "           'gram', 'kilogram', 'kg', 'liter', 'L', 'millileter', 'mL']"
   ]
  },
  {
   "cell_type": "code",
   "execution_count": null,
   "metadata": {},
   "outputs": [],
   "source": [
    "#you buy oz or mL\n",
    "#pounds or grams\n",
    "\n",
    "#check first for common words "
   ]
  },
  {
   "cell_type": "code",
   "execution_count": null,
   "metadata": {},
   "outputs": [],
   "source": [
    "recipe_ingredients = ['ounce country-style bread, crusts removed', 'tablespoons olive oil, divided', \\\n",
    "                      'scallions', 'salt, freshly ground pepper', 'tablespoons fresh lemon juice', \\\n",
    "                      'tablespoons unseasoned rice vinegar', 'tablespoons Dijon mustard', \\\n",
    "                      'tablespoons mayonnaise, preferably Hellmann’s', \\\n",
    "                      'small rotisserie chicken, meat pulled from bone', 'radishes, trimmed, cut into wedges', \\\n",
    "                      'head of Bibb lettuce, leaves separated', 'avocado, sliced, divided', 'pound ground lamb', \\\n",
    "                      'cup yellow or red onion, ﬁnely chopped', 'cloves garlic, minced', 'teaspoons fresh ginger, ﬁnely grated', \\\n",
    "                      'teaspoon garam masala', 'teaspoon curry powder', 'teaspoon paprika', 'Salt', 'Pepper', 'ramps, just the greens, minced', \n",
    "                      'tablespoons extra-virgin olive oil', 'teaspoons lemon juice', 'cup yogurt', 'large ﬂour tortillas or wraps', \\\n",
    "                      'Persian cucumbers, sliced very thin on a mandoline', 'red onion, thinly sliced', \\\n",
    "                      'Fresh cilantro sprigs, about 1/4 bunch', 'Greens or microgreens', 'Nonstick vegetable oil spray', \\\n",
    "                      'cups all-purpose flour', 'cup sugar', 'teaspoons baking powder', 'teaspoon kosher salt', \\\n",
    "                      'large eggs', 'cups ricotta', 'teaspoon vanilla extract', 'cup (1 stick) unsalted butter, melted', \\\n",
    "                      'cup frozen raspberries or blackberries, divided', 'ounces linguine', 'Kosher salt', \\\n",
    "                      'tablespoons unsalted butter, divided', 'tablespoons olive oil, divided', 'cup minced shallots', \\\n",
    "                      'teaspoon minced garlic', 'Fresno chiles, red jalapeños, or red Thai chiles, seeded, sliced into thin rounds', \\\n",
    "                      'tablespoons (or more) fresh lemon juice, divided', 'teaspoons (packed) finely grated lemon zest, divided', \\\n",
    "                      'Freshly ground black pepper', 'ounces cooked, shelled Dungeness crab, king crab, or jumbo lump crabmeat, picked over for shells', \\\n",
    "                      'cup fresh mint leaves, gently torn, divided']"
   ]
  },
  {
   "cell_type": "code",
   "execution_count": 153,
   "metadata": {},
   "outputs": [],
   "source": [
    "train = df[df['category'] != 'none']"
   ]
  },
  {
   "cell_type": "code",
   "execution_count": 171,
   "metadata": {},
   "outputs": [
    {
     "data": {
      "text/plain": [
       "fruits        740\n",
       "cheese        653\n",
       "vegetable     374\n",
       "herbs         226\n",
       "seafood        84\n",
       "dairy          65\n",
       "deli_meats     63\n",
       "beans          34\n",
       "meat           18\n",
       "Name: category, dtype: int64"
      ]
     },
     "execution_count": 171,
     "metadata": {},
     "output_type": "execute_result"
    }
   ],
   "source": [
    "train['category'].value_counts()"
   ]
  },
  {
   "cell_type": "code",
   "execution_count": 154,
   "metadata": {},
   "outputs": [],
   "source": [
    "test = df[df['category'] == 'none']"
   ]
  },
  {
   "cell_type": "code",
   "execution_count": 163,
   "metadata": {},
   "outputs": [],
   "source": [
    "from sklearn.feature_extraction.text import TfidfVectorizer, TfidfTransformer, CountVectorizer\n",
    "from sklearn.cluster import KMeans, DBSCAN\n",
    "from sklearn.metrics import silhouette_score\n",
    "import numpy as np \n",
    "import matplotlib.pyplot as plt\n",
    "from sklearn.ensemble import RandomForestClassifier"
   ]
  },
  {
   "cell_type": "code",
   "execution_count": 164,
   "metadata": {},
   "outputs": [],
   "source": [
    "vectorizer = TfidfVectorizer()\n",
    "X = vectorizer.fit_transform(train['ingredients'])\n",
    "y = train['category']"
   ]
  },
  {
   "cell_type": "code",
   "execution_count": 165,
   "metadata": {},
   "outputs": [
    {
     "data": {
      "text/plain": [
       "RandomForestClassifier(bootstrap=True, class_weight=None, criterion='gini',\n",
       "            max_depth=3, max_features='auto', max_leaf_nodes=None,\n",
       "            min_impurity_decrease=0.0, min_impurity_split=None,\n",
       "            min_samples_leaf=1, min_samples_split=2,\n",
       "            min_weight_fraction_leaf=0.0, n_estimators=100, n_jobs=None,\n",
       "            oob_score=False, random_state=0, verbose=0, warm_start=False)"
      ]
     },
     "execution_count": 165,
     "metadata": {},
     "output_type": "execute_result"
    }
   ],
   "source": [
    "clf = RandomForestClassifier(n_estimators=100, max_depth=3,\n",
    "                            random_state=0)\n",
    "clf.fit(X, y)"
   ]
  },
  {
   "cell_type": "code",
   "execution_count": 167,
   "metadata": {},
   "outputs": [],
   "source": [
    "predictions = clf.predict(vectorizer.transform(test['ingredients']))"
   ]
  },
  {
   "cell_type": "code",
   "execution_count": 168,
   "metadata": {},
   "outputs": [
    {
     "name": "stderr",
     "output_type": "stream",
     "text": [
      "/Users/kstanley/anaconda2/envs/mypython3/lib/python3.7/site-packages/ipykernel_launcher.py:1: SettingWithCopyWarning: \n",
      "A value is trying to be set on a copy of a slice from a DataFrame.\n",
      "Try using .loc[row_indexer,col_indexer] = value instead\n",
      "\n",
      "See the caveats in the documentation: http://pandas.pydata.org/pandas-docs/stable/indexing.html#indexing-view-versus-copy\n",
      "  \"\"\"Entry point for launching an IPython kernel.\n"
     ]
    }
   ],
   "source": [
    "test['category'] = predictions"
   ]
  },
  {
   "cell_type": "code",
   "execution_count": 170,
   "metadata": {},
   "outputs": [
    {
     "data": {
      "text/plain": [
       "fruits    6475\n",
       "cheese     224\n",
       "Name: category, dtype: int64"
      ]
     },
     "execution_count": 170,
     "metadata": {},
     "output_type": "execute_result"
    }
   ],
   "source": [
    "test['category'].value_counts()"
   ]
  },
  {
   "cell_type": "code",
   "execution_count": null,
   "metadata": {},
   "outputs": [],
   "source": [
    "new_df = pd.DataFrame(recipe_ingredients, columns=['recipe_ingredients'])"
   ]
  },
  {
   "cell_type": "code",
   "execution_count": null,
   "metadata": {},
   "outputs": [],
   "source": [
    "new_df['recipe_ingredients'] = new_df['recipe_ingredients'].apply(lambda x: ', '.join([lmtzr.lemmatize(y).lower() for y in x.split(' ')]).replace(',', '').replace('.', ''))"
   ]
  },
  {
   "cell_type": "code",
   "execution_count": null,
   "metadata": {},
   "outputs": [],
   "source": [
    "def strip_measurements(x, metrics):\n",
    "    found_word = ''\n",
    "    for word in x.split(' '):\n",
    "        if word in metrics:\n",
    "            found_word = word\n",
    "    return found_word\n"
   ]
  },
  {
   "cell_type": "code",
   "execution_count": null,
   "metadata": {},
   "outputs": [],
   "source": [
    "new_df['metric'] = new_df['recipe_ingredients'].apply(lambda x: strip_measurements(x, metrics))"
   ]
  },
  {
   "cell_type": "code",
   "execution_count": null,
   "metadata": {},
   "outputs": [],
   "source": [
    "import re\n",
    "def strip_word(row):\n",
    "    try:\n",
    "        new_recipe_ingredients = row['recipe_ingredients'].replace(row['metric'], '')\n",
    "        new_recipe_ingredients = re.sub('[^A-Za-z0-9]+', ' ', new_recipe_ingredients)\n",
    "    except:\n",
    "        new_recipe_ingredients = re.sub('[^A-Za-z0-9]+', ' ', row['recipe_ingredients'])\n",
    "    return new_recipe_ingredients"
   ]
  },
  {
   "cell_type": "code",
   "execution_count": null,
   "metadata": {},
   "outputs": [],
   "source": [
    "new_df['recipe_ingredients'] = new_df.apply(lambda row: strip_word(row), axis=1)"
   ]
  },
  {
   "cell_type": "code",
   "execution_count": null,
   "metadata": {},
   "outputs": [],
   "source": [
    "from nltk.tokenize import word_tokenize\n",
    "from nltk.util import ngrams\n",
    "\n",
    "def get_ngrams(text, n ):\n",
    "    n_grams = ngrams(word_tokenize(text), n)\n",
    "    return [ ' '.join(grams) for grams in n_grams]"
   ]
  },
  {
   "cell_type": "code",
   "execution_count": null,
   "metadata": {},
   "outputs": [],
   "source": [
    "def standardize_ingredients(row, ingredients):\n",
    "    possible_standard = []\n",
    "    for ingredient in ingredients:\n",
    "        if ingredient in row['recipe_ingredients']:\n",
    "            possible_standard.append(ingredient)\n",
    "    if len(possible_standard) == 0:\n",
    "        return row['recipe_ingredients']\n",
    "    else:\n",
    "        return max(possible_standard, key=len)\n",
    "    "
   ]
  },
  {
   "cell_type": "code",
   "execution_count": null,
   "metadata": {},
   "outputs": [],
   "source": [
    "new_df"
   ]
  },
  {
   "cell_type": "code",
   "execution_count": null,
   "metadata": {},
   "outputs": [],
   "source": [
    "new_df['recipe_ingredients'] = new_df.apply(lambda row: standardize_ingredients(row, df['ingredients']), axis=1)"
   ]
  },
  {
   "cell_type": "code",
   "execution_count": null,
   "metadata": {},
   "outputs": [],
   "source": [
    "new_df"
   ]
  },
  {
   "cell_type": "code",
   "execution_count": null,
   "metadata": {},
   "outputs": [],
   "source": [
    "3 tsp = 1 Tbs\n",
    "16 Tbs =  1 cup\n",
    "1 cup = 8 oz (liquid capacity) \n",
    "1 pt = 2 cups\n",
    "1 qt = 2 pt\n",
    "1 gal = 4 qt\n",
    "1 gal   231 in\n",
    "1 ft     7.48 gal\n",
    "1 lb   453.6 g \n",
    "1 oz   28.35 g \n",
    "1 kg   2.205 lb \n",
    "1 pt   473.2 cm \n",
    "1 L   1.057 qt \n",
    "1 tsp = 5 mL"
   ]
  }
 ],
 "metadata": {
  "kernelspec": {
   "display_name": "Python 3",
   "language": "python",
   "name": "python3"
  },
  "language_info": {
   "codemirror_mode": {
    "name": "ipython",
    "version": 3
   },
   "file_extension": ".py",
   "mimetype": "text/x-python",
   "name": "python",
   "nbconvert_exporter": "python",
   "pygments_lexer": "ipython3",
   "version": "3.7.1"
  }
 },
 "nbformat": 4,
 "nbformat_minor": 2
}
