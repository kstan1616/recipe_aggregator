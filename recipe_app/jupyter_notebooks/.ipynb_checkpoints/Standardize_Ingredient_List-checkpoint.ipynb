{
 "cells": [
  {
   "cell_type": "code",
   "execution_count": 4,
   "metadata": {},
   "outputs": [
    {
     "name": "stderr",
     "output_type": "stream",
     "text": [
      "[nltk_data] Downloading package punkt to /home/ubuntu/nltk_data...\n",
      "[nltk_data]   Package punkt is already up-to-date!\n",
      "[nltk_data] Downloading package averaged_perceptron_tagger to\n",
      "[nltk_data]     /home/ubuntu/nltk_data...\n",
      "[nltk_data]   Unzipping taggers/averaged_perceptron_tagger.zip.\n"
     ]
    },
    {
     "data": {
      "text/plain": [
       "[('I', 'PRP'), ('went', 'VBD'), ('to', 'TO'), ('the', 'DT'), ('store', 'NN')]"
      ]
     },
     "execution_count": 4,
     "metadata": {},
     "output_type": "execute_result"
    }
   ],
   "source": [
    "import nltk\n",
    "nltk.download('punkt')\n",
    "nltk.download('averaged_perceptron_tagger')\n",
    "tokens = nltk.word_tokenize('I went to the store')\n",
    "nltk.pos_tag(tokens)"
   ]
  },
  {
   "cell_type": "code",
   "execution_count": 128,
   "metadata": {},
   "outputs": [],
   "source": [
    "recipe_ingredients = ['ounce country-style bread, crusts removed', 'tablespoons olive oil, divided', \\\n",
    "                      'scallions', 'salt, freshly ground pepper', 'tablespoons fresh lemon juice', \\\n",
    "                      'tablespoons unseasoned rice vinegar', 'tablespoons Dijon mustard', \\\n",
    "#                       'tablespoons mayonnaise, preferably Hellmann’s', \\\n",
    "#                       'small rotisserie chicken, meat pulled from bone', 'radishes, trimmed, cut into wedges', \\\n",
    "#                       'head of Bibb lettuce, leaves separated', 'avocado, sliced, divided', 'pound ground lamb', \\\n",
    "#                       'cup yellow or red onion, ﬁnely chopped', 'cloves garlic, minced', 'teaspoons fresh ginger, ﬁnely grated', \\\n",
    "#                       'teaspoon garam masala', 'teaspoon curry powder', 'teaspoon paprika', 'Salt', 'Pepper', 'ramps, just the greens, minced', \n",
    "#                       'tablespoons extra-virgin olive oil', 'teaspoons lemon juice', 'cup yogurt', 'large ﬂour tortillas or wraps', \\\n",
    "#                       'Persian cucumbers, sliced very thin on a mandoline', 'red onion, thinly sliced', \\\n",
    "#                       'Fresh cilantro sprigs, about 1/4 bunch', 'Greens or microgreens', 'Nonstick vegetable oil spray', \\\n",
    "#                       'cups all-purpose flour', 'cup sugar', 'teaspoons baking powder', 'teaspoon kosher salt', \\\n",
    "#                       'large eggs', 'cups ricotta', 'teaspoon vanilla extract', 'cup (1 stick) unsalted butter, melted', \\\n",
    "#                       'cup frozen raspberries or blackberries, divided', 'ounces linguine', 'Kosher salt', \\\n",
    "#                       'tablespoons unsalted butter, divided', 'tablespoons olive oil, divided', 'cup minced shallots', \\\n",
    "#                       'teaspoon minced garlic', 'Fresno chiles, red jalapeños, or red Thai chiles, seeded, sliced into thin rounds', \\\n",
    "                      'tablespoons (or more) fresh lemon juice, divided', 'teaspoons (packed) finely grated lemon zest, divided', \\\n",
    "                      'Freshly ground black pepper', 'ounces cooked, shelled Dungeness crab, king crab, or jumbo lump crabmeat, picked over for shells', \\\n",
    "                      'cup fresh mint leaves, gently torn, divided']"
   ]
  },
  {
   "cell_type": "code",
   "execution_count": 129,
   "metadata": {},
   "outputs": [],
   "source": [
    "metrics = ['tablespoon', 'teaspoon', 'tbsp', 'tsp', 'cup', 'ounce', 'oz', 'ounce'\\\n",
    "           'quart', 'qt', 'pt', 'pint', 'gallon', 'gal', 'pount', 'lb', 'g', \\\n",
    "           'gram', 'kilogram', 'kg', 'liter', 'L', 'millileter', 'mL']"
   ]
  },
  {
   "cell_type": "code",
   "execution_count": 130,
   "metadata": {},
   "outputs": [
    {
     "name": "stderr",
     "output_type": "stream",
     "text": [
      "[nltk_data] Downloading package wordnet to /home/ubuntu/nltk_data...\n",
      "[nltk_data]   Package wordnet is already up-to-date!\n"
     ]
    }
   ],
   "source": [
    "from nltk.stem.wordnet import WordNetLemmatizer\n",
    "lmtzr = WordNetLemmatizer()\n",
    "nltk.download('wordnet')\n",
    "\n",
    "recipe_ingredients = [' '.join([lmtzr.lemmatize(recipe).lower() for recipe in recipe_ingredient.split(' ')]) for recipe_ingredient in recipe_ingredients] \n"
   ]
  },
  {
   "cell_type": "code",
   "execution_count": 131,
   "metadata": {},
   "outputs": [],
   "source": [
    "new_recipe_ingredients = []\n",
    "for recipe in recipe_ingredients:\n",
    "    new_string = ''\n",
    "    recipe_list = [word for word in recipe.split(' ')]\n",
    "    for word in recipe_list:\n",
    "        for metric in metrics:\n",
    "            if word == metric:\n",
    "                added_string = ''\n",
    "                break\n",
    "            else:\n",
    "                added_string = word + ' '\n",
    "        new_string += added_string\n",
    "    new_recipe_ingredients.append(new_string.strip())\n",
    "recipe_ingredients = new_recipe_ingredients"
   ]
  },
  {
   "cell_type": "code",
   "execution_count": 132,
   "metadata": {},
   "outputs": [
    {
     "data": {
      "text/plain": [
       "[u'country-style bread, crust removed',\n",
       " u'olive oil, divided',\n",
       " u'scallion',\n",
       " 'salt, freshly ground pepper',\n",
       " u'fresh lemon juice',\n",
       " u'unseasoned rice vinegar',\n",
       " u'dijon mustard',\n",
       " u'(or more) fresh lemon juice, divided',\n",
       " u'(packed) finely grated lemon zest, divided',\n",
       " 'freshly ground black pepper',\n",
       " u'cooked, shelled dungeness crab, king crab, or jumbo lump crabmeat, picked over for shell',\n",
       " 'fresh mint leaves, gently torn, divided']"
      ]
     },
     "execution_count": 132,
     "metadata": {},
     "output_type": "execute_result"
    }
   ],
   "source": [
    "recipe_ingredients"
   ]
  },
  {
   "cell_type": "code",
   "execution_count": 133,
   "metadata": {},
   "outputs": [],
   "source": [
    "new_recipe_ingredients = []\n",
    "for recipe in recipe_ingredients:\n",
    "    if ' or ' in recipe:\n",
    "        final = [y.replace(',', '').split(' or ') for y in recipe.split(',')]\n",
    "        new_recipe_ingredients.append(final)\n",
    "    else:\n",
    "        new_recipe_ingredients.append(recipe)\n",
    "recipe_ingredients = new_recipe_ingredients"
   ]
  },
  {
   "cell_type": "code",
   "execution_count": 134,
   "metadata": {},
   "outputs": [
    {
     "data": {
      "text/plain": [
       "[u'country-style bread, crust removed',\n",
       " u'olive oil, divided',\n",
       " u'scallion',\n",
       " 'salt, freshly ground pepper',\n",
       " u'fresh lemon juice',\n",
       " u'unseasoned rice vinegar',\n",
       " u'dijon mustard',\n",
       " u'(or more) fresh lemon juice, divided',\n",
       " u'(packed) finely grated lemon zest, divided',\n",
       " 'freshly ground black pepper',\n",
       " [[u'cooked'],\n",
       "  [u' shelled dungeness crab'],\n",
       "  [u' king crab'],\n",
       "  [u'', u'jumbo lump crabmeat'],\n",
       "  [u' picked over for shell']],\n",
       " 'fresh mint leaves, gently torn, divided']"
      ]
     },
     "execution_count": 134,
     "metadata": {},
     "output_type": "execute_result"
    }
   ],
   "source": [
    "recipe_ingredients"
   ]
  },
  {
   "cell_type": "code",
   "execution_count": 135,
   "metadata": {},
   "outputs": [],
   "source": [
    "new_recipe_ingredients = []\n",
    "substitutes = []\n",
    "for recipe in recipe_ingredients:\n",
    "    if type(recipe) == list:\n",
    "        temp_list = []\n",
    "        for element in recipe:\n",
    "            tokens = nltk.word_tokenize(element[0])\n",
    "            tagged_list = nltk.pos_tag(tokens)\n",
    "            new_string = ''\n",
    "            for tup in tagged_list:\n",
    "                if tup[1] in ['NN', 'JJ', 'NNS', 'NNP']:\n",
    "                    new_string += tup[0] + ' '\n",
    "            else:\n",
    "                pass\n",
    "            if len(new_string) > 0:\n",
    "                temp_list.append(new_string)\n",
    "        new_recipe_ingredients.append(temp_list[0])\n",
    "        try:\n",
    "            substitutes.append(temp_list[1:])\n",
    "        except:\n",
    "            pass\n",
    "    else:\n",
    "        tokens = nltk.word_tokenize(recipe)\n",
    "        tagged_list = nltk.pos_tag(tokens)\n",
    "        new_string = ''\n",
    "        for tup in tagged_list:\n",
    "            if tup[1] in ['NN', 'JJ', 'NNS', 'NNP']:\n",
    "                new_string += tup[0] + ' '\n",
    "            else:\n",
    "                pass\n",
    "        new_recipe_ingredients.append(new_string)"
   ]
  },
  {
   "cell_type": "code",
   "execution_count": 140,
   "metadata": {},
   "outputs": [],
   "source": [
    "tokens = nltk.word_tokenize('ounces')\n",
    "tagged_list = nltk.pos_tag(tokens)"
   ]
  },
  {
   "cell_type": "code",
   "execution_count": 141,
   "metadata": {},
   "outputs": [
    {
     "data": {
      "text/plain": [
       "[('ounces', 'NNS')]"
      ]
     },
     "execution_count": 141,
     "metadata": {},
     "output_type": "execute_result"
    }
   ],
   "source": [
    "tagged_list"
   ]
  },
  {
   "cell_type": "code",
   "execution_count": 138,
   "metadata": {},
   "outputs": [
    {
     "data": {
      "text/plain": [
       "[u'country-style bread crust ',\n",
       " u'olive oil ',\n",
       " u'scallion ',\n",
       " 'salt ground pepper ',\n",
       " u'fresh lemon juice ',\n",
       " u'unseasoned rice vinegar ',\n",
       " u'dijon mustard ',\n",
       " u'fresh lemon juice ',\n",
       " u'grated lemon ',\n",
       " 'ground black pepper ',\n",
       " u'cooked ',\n",
       " 'fresh mint leaves ']"
      ]
     },
     "execution_count": 138,
     "metadata": {},
     "output_type": "execute_result"
    }
   ],
   "source": [
    "new_recipe_ingredients"
   ]
  },
  {
   "cell_type": "code",
   "execution_count": null,
   "metadata": {},
   "outputs": [],
   "source": []
  }
 ],
 "metadata": {
  "kernelspec": {
   "display_name": "Python 2",
   "language": "python",
   "name": "python2"
  },
  "language_info": {
   "codemirror_mode": {
    "name": "ipython",
    "version": 2
   },
   "file_extension": ".py",
   "mimetype": "text/x-python",
   "name": "python",
   "nbconvert_exporter": "python",
   "pygments_lexer": "ipython2",
   "version": "2.7.16"
  }
 },
 "nbformat": 4,
 "nbformat_minor": 2
}
