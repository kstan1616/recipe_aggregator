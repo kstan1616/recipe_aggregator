{
 "cells": [
  {
   "cell_type": "code",
   "execution_count": 200,
   "metadata": {},
   "outputs": [
    {
     "name": "stderr",
     "output_type": "stream",
     "text": [
      "[nltk_data] Downloading package punkt to /home/ubuntu/nltk_data...\n",
      "[nltk_data]   Package punkt is already up-to-date!\n",
      "[nltk_data] Downloading package averaged_perceptron_tagger to\n",
      "[nltk_data]     /home/ubuntu/nltk_data...\n",
      "[nltk_data]   Package averaged_perceptron_tagger is already up-to-\n",
      "[nltk_data]       date!\n"
     ]
    },
    {
     "data": {
      "text/plain": [
       "[('small', 'JJ'),\n",
       " ('rotisserie', 'NN'),\n",
       " ('chicken', 'NN'),\n",
       " (',', ','),\n",
       " ('meat', 'NN'),\n",
       " ('pulled', 'VBD'),\n",
       " ('from', 'IN'),\n",
       " ('bone', 'NN')]"
      ]
     },
     "execution_count": 200,
     "metadata": {},
     "output_type": "execute_result"
    }
   ],
   "source": [
    "import nltk\n",
    "import pandas as pd\n",
    "nltk.download('punkt')\n",
    "nltk.download('averaged_perceptron_tagger')\n",
    "tokens = nltk.word_tokenize('small rotisserie chicken, meat pulled from bone')\n",
    "nltk.pos_tag(tokens)\n",
    "# df = pd.read_csv('recipe_app/data/recipe_ingredients_new.csv')"
   ]
  },
  {
   "cell_type": "code",
   "execution_count": 222,
   "metadata": {},
   "outputs": [],
   "source": [
    "recipe_ingredients = ['ounce country-style bread, crusts removed', 'tablespoons olive oil, divided', \\\n",
    "                      'scallions', 'salt, freshly ground pepper', 'tablespoons fresh lemon juice', \\\n",
    "                      'tablespoons unseasoned rice vinegar', 'tablespoons Dijon mustard', \\\n",
    "                      'tablespoons mayonnaise, preferably Hellmanns', \\\n",
    "                      'small rotisserie chicken, meat pulled from bone', 'radishes, trimmed, cut into wedges', \\\n",
    "                      'head of Bibb lettuce, leaves separated', 'avocado, sliced, divided', 'pound ground lamb', \\\n",
    "#                       'cup yellow or red onion, ﬁnely chopped', 'cloves garlic, minced', 'teaspoons fresh ginger, ﬁnely grated', \\\n",
    "#                       'teaspoon garam masala', 'teaspoon curry powder', 'teaspoon paprika', 'Salt', 'Pepper', 'ramps, just the greens, minced', \n",
    "#                       'tablespoons extra-virgin olive oil', 'teaspoons lemon juice', 'cup yogurt', 'large ﬂour tortillas or wraps', \\\n",
    "#                       'Persian cucumbers, sliced very thin on a mandoline', 'red onion, thinly sliced', \\\n",
    "#                       'Fresh cilantro sprigs, about bunch', 'Greens or microgreens', 'Nonstick vegetable oil spray', \\\n",
    "#                       'cups all-purpose flour', 'cup sugar', 'teaspoons baking powder', 'teaspoon kosher salt', \\\n",
    "#                       'large eggs', 'cups ricotta', 'teaspoon vanilla extract', 'cup (1 stick) unsalted butter, melted', \\\n",
    "#                       'cup frozen raspberries or blackberries, divided', 'ounces linguine', 'Kosher salt', \\\n",
    "#                       'tablespoons unsalted butter, divided', 'tablespoons olive oil, divided', 'cup minced shallots', \\\n",
    "                      'teaspoon minced garlic', 'Fresno chiles, red jalapenos, or red Thai chiles, seeded, sliced into thin rounds', \\\n",
    "                      'tablespoons (or more) fresh lemon juice, divided', 'teaspoons (packed) finely grated lemon zest, divided', \\\n",
    "                      'Freshly ground black pepper', 'ounces cooked, shelled Dungeness crab, king crab, or jumbo lump crabmeat, picked over for shells', \\\n",
    "                      'cup fresh mint leaves, gently torn, divided']"
   ]
  },
  {
   "cell_type": "code",
   "execution_count": 223,
   "metadata": {},
   "outputs": [],
   "source": [
    "metrics = ['tablespoon', 'teaspoon', 'tbsp', 'tsp', 'cup', 'ounce', 'oz', 'ounce'\\\n",
    "           'quart', 'qt', 'pt', 'pint', 'gallon', 'gal', 'pount', 'lb', 'g', \\\n",
    "           'gram', 'kilogram', 'kg', 'liter', 'L', 'millileter', 'mL', 'pound']\n"
   ]
  },
  {
   "cell_type": "code",
   "execution_count": 224,
   "metadata": {},
   "outputs": [
    {
     "name": "stderr",
     "output_type": "stream",
     "text": [
      "[nltk_data] Downloading package wordnet to /home/ubuntu/nltk_data...\n",
      "[nltk_data]   Package wordnet is already up-to-date!\n"
     ]
    }
   ],
   "source": [
    "from nltk.stem.wordnet import WordNetLemmatizer\n",
    "lmtzr = WordNetLemmatizer()\n",
    "nltk.download('wordnet')\n",
    "\n",
    "recipe_ingredients = [' '.join([lmtzr.lemmatize(recipe).lower() for recipe in recipe_ingredient.split(' ')]) for recipe_ingredient in recipe_ingredients] \n"
   ]
  },
  {
   "cell_type": "code",
   "execution_count": 225,
   "metadata": {},
   "outputs": [],
   "source": [
    "new_recipe_ingredients = []\n",
    "for recipe in recipe_ingredients:\n",
    "    new_string = ''\n",
    "    recipe_list = [word for word in recipe.split(' ')]\n",
    "    for word in recipe_list:\n",
    "        for metric in metrics:\n",
    "            if word == metric:\n",
    "                added_string = ''\n",
    "                break\n",
    "            else:\n",
    "                added_string = word + ' '\n",
    "        new_string += added_string\n",
    "    new_recipe_ingredients.append(new_string.strip())\n",
    "recipe_ingredients = new_recipe_ingredients"
   ]
  },
  {
   "cell_type": "code",
   "execution_count": 226,
   "metadata": {},
   "outputs": [
    {
     "data": {
      "text/plain": [
       "[u'country-style bread, crust removed',\n",
       " u'olive oil, divided',\n",
       " u'scallion',\n",
       " 'salt, freshly ground pepper',\n",
       " u'fresh lemon juice',\n",
       " u'unseasoned rice vinegar',\n",
       " u'dijon mustard',\n",
       " u'mayonnaise, preferably hellmanns',\n",
       " 'small rotisserie chicken, meat pulled from bone',\n",
       " u'radishes, trimmed, cut into wedge',\n",
       " u'head of bibb lettuce, leaf separated',\n",
       " 'avocado, sliced, divided',\n",
       " 'ground lamb',\n",
       " 'minced garlic',\n",
       " u'fresno chiles, red jalapenos, or red thai chiles, seeded, sliced into thin round',\n",
       " u'(or more) fresh lemon juice, divided',\n",
       " u'(packed) finely grated lemon zest, divided',\n",
       " 'freshly ground black pepper',\n",
       " u'cooked, shelled dungeness crab, king crab, or jumbo lump crabmeat, picked over for shell',\n",
       " 'fresh mint leaves, gently torn, divided']"
      ]
     },
     "execution_count": 226,
     "metadata": {},
     "output_type": "execute_result"
    }
   ],
   "source": [
    "recipe_ingredients"
   ]
  },
  {
   "cell_type": "code",
   "execution_count": 227,
   "metadata": {},
   "outputs": [],
   "source": [
    "new_recipe_ingredients = []\n",
    "for recipe in recipe_ingredients:\n",
    "    if ' or ' in recipe:\n",
    "        final = [y.replace(',', '').split(' or ') for y in recipe.split(',')]\n",
    "        new_recipe_ingredients.append(final)\n",
    "    else:\n",
    "        new_recipe_ingredients.append(recipe)\n",
    "recipe_ingredients = new_recipe_ingredients"
   ]
  },
  {
   "cell_type": "code",
   "execution_count": 228,
   "metadata": {},
   "outputs": [
    {
     "data": {
      "text/plain": [
       "[u'country-style bread, crust removed',\n",
       " u'olive oil, divided',\n",
       " u'scallion',\n",
       " 'salt, freshly ground pepper',\n",
       " u'fresh lemon juice',\n",
       " u'unseasoned rice vinegar',\n",
       " u'dijon mustard',\n",
       " u'mayonnaise, preferably hellmanns',\n",
       " 'small rotisserie chicken, meat pulled from bone',\n",
       " u'radishes, trimmed, cut into wedge',\n",
       " u'head of bibb lettuce, leaf separated',\n",
       " 'avocado, sliced, divided',\n",
       " 'ground lamb',\n",
       " 'minced garlic',\n",
       " [[u'fresno chiles'],\n",
       "  [u' red jalapenos'],\n",
       "  [u'', u'red thai chiles'],\n",
       "  [u' seeded'],\n",
       "  [u' sliced into thin round']],\n",
       " u'(or more) fresh lemon juice, divided',\n",
       " u'(packed) finely grated lemon zest, divided',\n",
       " 'freshly ground black pepper',\n",
       " [[u'cooked'],\n",
       "  [u' shelled dungeness crab'],\n",
       "  [u' king crab'],\n",
       "  [u'', u'jumbo lump crabmeat'],\n",
       "  [u' picked over for shell']],\n",
       " 'fresh mint leaves, gently torn, divided']"
      ]
     },
     "execution_count": 228,
     "metadata": {},
     "output_type": "execute_result"
    }
   ],
   "source": [
    "recipe_ingredients"
   ]
  },
  {
   "cell_type": "code",
   "execution_count": 229,
   "metadata": {},
   "outputs": [],
   "source": [
    "new_recipe_ingredients = []\n",
    "substitutes = []\n",
    "for recipe in recipe_ingredients:\n",
    "    if type(recipe) == list:\n",
    "        temp_list = []\n",
    "        for element in recipe:\n",
    "            tokens = nltk.word_tokenize(element[0])\n",
    "            tagged_list = nltk.pos_tag(tokens)\n",
    "            new_string = ''\n",
    "            for tup in tagged_list:\n",
    "                if tup[1] in ['NN', 'JJ', 'NNS', 'NNP']:\n",
    "                    new_string += tup[0] + ' '\n",
    "            else:\n",
    "                pass\n",
    "            if len(new_string) > 0:\n",
    "                temp_list.append(new_string)\n",
    "        new_recipe_ingredients.append(temp_list[0])\n",
    "        try:\n",
    "            substitutes.append(temp_list[1:])\n",
    "        except:\n",
    "            pass\n",
    "    else:\n",
    "        tokens = nltk.word_tokenize(recipe)\n",
    "        tagged_list = nltk.pos_tag(tokens)\n",
    "        new_string = ''\n",
    "        for tup in tagged_list:\n",
    "            if tup[1] in ['NN', 'JJ', 'NNS', 'NNP']:\n",
    "                new_string += tup[0] + ' '\n",
    "            else:\n",
    "                pass\n",
    "        new_recipe_ingredients.append(new_string)"
   ]
  },
  {
   "cell_type": "code",
   "execution_count": 230,
   "metadata": {},
   "outputs": [],
   "source": [
    "tokens = nltk.word_tokenize('round')\n",
    "tagged_list = nltk.pos_tag(tokens)"
   ]
  },
  {
   "cell_type": "code",
   "execution_count": 231,
   "metadata": {},
   "outputs": [
    {
     "data": {
      "text/plain": [
       "[('round', 'NN')]"
      ]
     },
     "execution_count": 231,
     "metadata": {},
     "output_type": "execute_result"
    }
   ],
   "source": [
    "tagged_list"
   ]
  },
  {
   "cell_type": "code",
   "execution_count": 232,
   "metadata": {},
   "outputs": [
    {
     "data": {
      "text/plain": [
       "[u'country-style bread crust ',\n",
       " u'olive oil ',\n",
       " u'scallion ',\n",
       " 'salt ground pepper ',\n",
       " u'fresh lemon juice ',\n",
       " u'unseasoned rice vinegar ',\n",
       " u'dijon mustard ',\n",
       " u'mayonnaise hellmanns ',\n",
       " 'small rotisserie chicken meat bone ',\n",
       " u'radishes wedge ',\n",
       " u'head bibb lettuce leaf ',\n",
       " 'avocado ',\n",
       " 'ground lamb ',\n",
       " 'garlic ',\n",
       " u'fresno chiles ',\n",
       " u'fresh lemon juice ',\n",
       " u'grated lemon ',\n",
       " 'ground black pepper ',\n",
       " u'cooked ',\n",
       " 'fresh mint leaves ']"
      ]
     },
     "execution_count": 232,
     "metadata": {},
     "output_type": "execute_result"
    }
   ],
   "source": [
    "new_recipe_ingredients"
   ]
  },
  {
   "cell_type": "code",
   "execution_count": 192,
   "metadata": {},
   "outputs": [
    {
     "data": {
      "text/plain": [
       "[[u'red jalapenos ', u'thin round '],\n",
       " [u'dungeness crab ', u'crab ', u'shell ']]"
      ]
     },
     "execution_count": 192,
     "metadata": {},
     "output_type": "execute_result"
    }
   ],
   "source": [
    "substitutes"
   ]
  },
  {
   "cell_type": "code",
   "execution_count": 2,
   "metadata": {},
   "outputs": [
    {
     "name": "stdout",
     "output_type": "stream",
     "text": [
      "\u001b[33mDEPRECATION: Python 2.7 will reach the end of its life on January 1st, 2020. Please upgrade your Python as Python 2.7 won't be maintained after that date. A future version of pip will drop support for Python 2.7.\u001b[0m\n",
      "Requirement already satisfied: mechanize in /home/ubuntu/anaconda2/lib/python2.7/site-packages (0.4.2)\n",
      "Requirement already satisfied: html5lib>=0.999999999 in /home/ubuntu/anaconda2/lib/python2.7/site-packages (from mechanize) (1.0.1)\n",
      "Requirement already satisfied: six>=1.9 in /home/ubuntu/anaconda2/lib/python2.7/site-packages (from html5lib>=0.999999999->mechanize) (1.12.0)\n",
      "Requirement already satisfied: webencodings in /home/ubuntu/anaconda2/lib/python2.7/site-packages (from html5lib>=0.999999999->mechanize) (0.5.1)\n"
     ]
    },
    {
     "data": {
      "text/plain": [
       "<response_seek_wrapper at 0x7f7885dca050 whose wrapped object = <closeable_response at 0x7f7885dc5e18 whose fp = <socket._fileobject object at 0x7f7885ea9cd0>>>"
      ]
     },
     "execution_count": 2,
     "metadata": {},
     "output_type": "execute_result"
    }
   ],
   "source": [
    "import sys\n",
    "!{sys.executable} -m pip install mechanize\n",
    "import mechanize\n",
    "from bs4 import BeautifulSoup\n",
    "import urllib2 \n",
    "import cookielib\n",
    "\n",
    "cj = cookielib.CookieJar()\n",
    "br = mechanize.Browser()\n",
    "br.set_cookiejar(cj)\n",
    "br.open(\"https://cooking.nytimes.com/recipes/1016833-spaghetti-and-drop-meatballs-with-tomato-sauce?action=click&module=Collection%20Page%20Recipe%20Card&region=Our%20Favorite%20Weeknight%20Pastas%20from%20Mark%20Bittman&pgType=collection&rank=2\")\n",
    "# br.click_link(link)\n",
    "# br.select_form(nr=0)\n",
    "# br.form['userid'] = 'kyle.m.stanley16@gmail.com'\n",
    "# br.form['password'] = '1Baseball6.'\n",
    "# br.submit()\n",
    "\n",
    "# print br.response().read()"
   ]
  },
  {
   "cell_type": "code",
   "execution_count": null,
   "metadata": {},
   "outputs": [],
   "source": [
    "import requests, lxml.html\n",
    "s = requests.session()\n",
    "\n",
    "### Here, we're getting the login page and then grabbing hidden form\n",
    "### fields.  We're probably also getting several session cookies too.\n",
    "login = s.get(\"https://cooking.nytimes.com/recipes/1016833-spaghetti-and-drop-meatballs-with-tomato-sauce?action=click&module=Collection%20Page%20Recipe%20Card&region=Our%20Favorite%20Weeknight%20Pastas%20from%20Mark%20Bittman&pgType=collection&rank=2\")\n",
    "login_html = lxml.html.fromstring(login.text)\n",
    "hidden_inputs = login_html.xpath(r'//*[@id=\"appContainer\"]/div/div[2]/div/div/div/div[2]/span[2]')\n",
    "response = login.post('')\n",
    "\n",
    "\n",
    "'<span role=\"button\" class=\"nytc---buttonstyles---standard nytc---buttonstyles---whiteButton\">Log In</span>'\n",
    " "
   ]
  },
  {
   "cell_type": "code",
   "execution_count": 12,
   "metadata": {},
   "outputs": [
    {
     "name": "stdout",
     "output_type": "stream",
     "text": [
      "\u001b[33mDEPRECATION: Python 2.7 will reach the end of its life on January 1st, 2020. Please upgrade your Python as Python 2.7 won't be maintained after that date. A future version of pip will drop support for Python 2.7.\u001b[0m\n",
      "Requirement already satisfied: selenium in /home/ubuntu/anaconda2/lib/python2.7/site-packages (3.141.0)\n",
      "Requirement already satisfied: urllib3 in /home/ubuntu/anaconda2/lib/python2.7/site-packages (from selenium) (1.24.1)\n"
     ]
    },
    {
     "ename": "WebDriverException",
     "evalue": "Message: Service /usr/bin/phantomjs unexpectedly exited. Status code was: 1\n",
     "output_type": "error",
     "traceback": [
      "\u001b[0;31m---------------------------------------------------------------------------\u001b[0m",
      "\u001b[0;31mWebDriverException\u001b[0m                        Traceback (most recent call last)",
      "\u001b[0;32m<ipython-input-12-44c51749a261>\u001b[0m in \u001b[0;36m<module>\u001b[0;34m()\u001b[0m\n\u001b[1;32m      2\u001b[0m \u001b[0mget_ipython\u001b[0m\u001b[0;34m(\u001b[0m\u001b[0;34m)\u001b[0m\u001b[0;34m.\u001b[0m\u001b[0msystem\u001b[0m\u001b[0;34m(\u001b[0m\u001b[0;34mu'{sys.executable} -m pip install selenium'\u001b[0m\u001b[0;34m)\u001b[0m\u001b[0;34m\u001b[0m\u001b[0m\n\u001b[1;32m      3\u001b[0m \u001b[0;32mfrom\u001b[0m \u001b[0mselenium\u001b[0m \u001b[0;32mimport\u001b[0m \u001b[0mwebdriver\u001b[0m\u001b[0;34m\u001b[0m\u001b[0m\n\u001b[0;32m----> 4\u001b[0;31m \u001b[0mdriver\u001b[0m \u001b[0;34m=\u001b[0m \u001b[0mwebdriver\u001b[0m\u001b[0;34m.\u001b[0m\u001b[0mPhantomJS\u001b[0m\u001b[0;34m(\u001b[0m\u001b[0;34m'/usr/bin/phantomjs'\u001b[0m\u001b[0;34m)\u001b[0m\u001b[0;34m\u001b[0m\u001b[0m\n\u001b[0m",
      "\u001b[0;32m/home/ubuntu/anaconda2/lib/python2.7/site-packages/selenium/webdriver/phantomjs/webdriver.pyc\u001b[0m in \u001b[0;36m__init__\u001b[0;34m(self, executable_path, port, desired_capabilities, service_args, service_log_path)\u001b[0m\n\u001b[1;32m     54\u001b[0m             \u001b[0mservice_args\u001b[0m\u001b[0;34m=\u001b[0m\u001b[0mservice_args\u001b[0m\u001b[0;34m,\u001b[0m\u001b[0;34m\u001b[0m\u001b[0m\n\u001b[1;32m     55\u001b[0m             log_path=service_log_path)\n\u001b[0;32m---> 56\u001b[0;31m         \u001b[0mself\u001b[0m\u001b[0;34m.\u001b[0m\u001b[0mservice\u001b[0m\u001b[0;34m.\u001b[0m\u001b[0mstart\u001b[0m\u001b[0;34m(\u001b[0m\u001b[0;34m)\u001b[0m\u001b[0;34m\u001b[0m\u001b[0m\n\u001b[0m\u001b[1;32m     57\u001b[0m \u001b[0;34m\u001b[0m\u001b[0m\n\u001b[1;32m     58\u001b[0m         \u001b[0;32mtry\u001b[0m\u001b[0;34m:\u001b[0m\u001b[0;34m\u001b[0m\u001b[0m\n",
      "\u001b[0;32m/home/ubuntu/anaconda2/lib/python2.7/site-packages/selenium/webdriver/common/service.pyc\u001b[0m in \u001b[0;36mstart\u001b[0;34m(self)\u001b[0m\n\u001b[1;32m     96\u001b[0m         \u001b[0mcount\u001b[0m \u001b[0;34m=\u001b[0m \u001b[0;36m0\u001b[0m\u001b[0;34m\u001b[0m\u001b[0m\n\u001b[1;32m     97\u001b[0m         \u001b[0;32mwhile\u001b[0m \u001b[0mTrue\u001b[0m\u001b[0;34m:\u001b[0m\u001b[0;34m\u001b[0m\u001b[0m\n\u001b[0;32m---> 98\u001b[0;31m             \u001b[0mself\u001b[0m\u001b[0;34m.\u001b[0m\u001b[0massert_process_still_running\u001b[0m\u001b[0;34m(\u001b[0m\u001b[0;34m)\u001b[0m\u001b[0;34m\u001b[0m\u001b[0m\n\u001b[0m\u001b[1;32m     99\u001b[0m             \u001b[0;32mif\u001b[0m \u001b[0mself\u001b[0m\u001b[0;34m.\u001b[0m\u001b[0mis_connectable\u001b[0m\u001b[0;34m(\u001b[0m\u001b[0;34m)\u001b[0m\u001b[0;34m:\u001b[0m\u001b[0;34m\u001b[0m\u001b[0m\n\u001b[1;32m    100\u001b[0m                 \u001b[0;32mbreak\u001b[0m\u001b[0;34m\u001b[0m\u001b[0m\n",
      "\u001b[0;32m/home/ubuntu/anaconda2/lib/python2.7/site-packages/selenium/webdriver/common/service.pyc\u001b[0m in \u001b[0;36massert_process_still_running\u001b[0;34m(self)\u001b[0m\n\u001b[1;32m    109\u001b[0m             raise WebDriverException(\n\u001b[1;32m    110\u001b[0m                 \u001b[0;34m'Service %s unexpectedly exited. Status code was: %s'\u001b[0m\u001b[0;34m\u001b[0m\u001b[0m\n\u001b[0;32m--> 111\u001b[0;31m                 \u001b[0;34m%\u001b[0m \u001b[0;34m(\u001b[0m\u001b[0mself\u001b[0m\u001b[0;34m.\u001b[0m\u001b[0mpath\u001b[0m\u001b[0;34m,\u001b[0m \u001b[0mreturn_code\u001b[0m\u001b[0;34m)\u001b[0m\u001b[0;34m\u001b[0m\u001b[0m\n\u001b[0m\u001b[1;32m    112\u001b[0m             )\n\u001b[1;32m    113\u001b[0m \u001b[0;34m\u001b[0m\u001b[0m\n",
      "\u001b[0;31mWebDriverException\u001b[0m: Message: Service /usr/bin/phantomjs unexpectedly exited. Status code was: 1\n"
     ]
    }
   ],
   "source": [
    "import sys\n",
    "!{sys.executable} -m pip install selenium\n",
    "from selenium import webdriver\n",
    "driver = webdriver.PhantomJS('/usr/bin/phantomjs')"
   ]
  },
  {
   "cell_type": "code",
   "execution_count": 7,
   "metadata": {},
   "outputs": [
    {
     "ename": "AttributeError",
     "evalue": "'str' object has no attribute '__file__'",
     "output_type": "error",
     "traceback": [
      "\u001b[0;31m---------------------------------------------------------------------------\u001b[0m",
      "\u001b[0;31mAttributeError\u001b[0m                            Traceback (most recent call last)",
      "\u001b[0;32m<ipython-input-7-786a10fc2566>\u001b[0m in \u001b[0;36m<module>\u001b[0;34m()\u001b[0m\n\u001b[1;32m      1\u001b[0m \u001b[0;32mimport\u001b[0m \u001b[0mos\u001b[0m\u001b[0;34m\u001b[0m\u001b[0m\n\u001b[0;32m----> 2\u001b[0;31m \u001b[0mpath\u001b[0m \u001b[0;34m=\u001b[0m \u001b[0mos\u001b[0m\u001b[0;34m.\u001b[0m\u001b[0mpath\u001b[0m\u001b[0;34m.\u001b[0m\u001b[0mdirname\u001b[0m\u001b[0;34m(\u001b[0m\u001b[0;34m'phantomjs'\u001b[0m\u001b[0;34m.\u001b[0m\u001b[0m__file__\u001b[0m\u001b[0;34m)\u001b[0m\u001b[0;34m\u001b[0m\u001b[0m\n\u001b[0m",
      "\u001b[0;31mAttributeError\u001b[0m: 'str' object has no attribute '__file__'"
     ]
    }
   ],
   "source": [
    "import os\n",
    "path = os.path.dirname()"
   ]
  },
  {
   "cell_type": "code",
   "execution_count": 22,
   "metadata": {},
   "outputs": [
    {
     "name": "stdout",
     "output_type": "stream",
     "text": [
      "\u001b[33mDEPRECATION: Python 2.7 will reach the end of its life on January 1st, 2020. Please upgrade your Python as Python 2.7 won't be maintained after that date. A future version of pip will drop support for Python 2.7.\u001b[0m\n",
      "Requirement already satisfied: html2text in /home/ubuntu/anaconda2/lib/python2.7/site-packages (2018.1.9)\n",
      "Link(base_url='https://cooking.nytimes.com/recipes/1016833-spaghetti-and-drop-meatballs-with-tomato-sauce?action=click&module=Collection%20Page%20Recipe%20Card&region=Our%20Favorite%20Weeknight%20Pastas%20from%20Mark%20Bittman&pgType=collection&rank=2', url=u'mailto:?subject=NYT%20Cooking:%20Spaghetti%20and%20Drop%20Meatballs%20With%20Tomato%20Sauce&body=NYT%20Cooking:%20Spaghetti%20and%20Drop%20Meatballs%20With%20Tomato%20Sauce%0A%0Ahttps://cooking.nytimes.com/recipes/1016833-spaghetti-and-drop-meatballs-with-tomato-sauce%3Futm_source%3Dsharetools%26utm_medium%3Demail%26utm_campaign%3Dwebsite', text=u'Email', tag=u'a', attrs=[(u'data-role', u'share-button'), (u'target', u'_blank'), (u'class', u'btn share-btn icon email icon-bubble-email'), (u'href', u'mailto:?subject=NYT%20Cooking:%20Spaghetti%20and%20Drop%20Meatballs%20With%20Tomato%20Sauce&body=NYT%20Cooking:%20Spaghetti%20and%20Drop%20Meatballs%20With%20Tomato%20Sauce%0A%0Ahttps://cooking.nytimes.com/recipes/1016833-spaghetti-and-drop-meatballs-with-tomato-sauce%3Futm_source%3Dsharetools%26utm_medium%3Demail%26utm_campaign%3Dwebsite'), (u'rel', u'noreferrer noopener'), (u'data-platform', u'Email')])\n"
     ]
    }
   ],
   "source": [
    "##################################### Method 1\n",
    "import mechanize\n",
    "import cookielib\n",
    "from bs4 import BeautifulSoup\n",
    "import sys\n",
    "!{sys.executable} -m pip install html2text\n",
    "\n",
    "# Browser\n",
    "br = mechanize.Browser()\n",
    "\n",
    "# Cookie Jar\n",
    "cj = cookielib.LWPCookieJar()\n",
    "br.set_cookiejar(cj)\n",
    "\n",
    "# Browser options\n",
    "br.set_handle_equiv(True)\n",
    "br.set_handle_gzip(True)\n",
    "br.set_handle_redirect(True)\n",
    "br.set_handle_referer(True)\n",
    "br.set_handle_robots(False)\n",
    "br.set_handle_refresh(mechanize._http.HTTPRefreshProcessor(), max_time=1)\n",
    "\n",
    "br.addheaders = [('User-agent', 'Chrome')]\n",
    "\n",
    "# The site we will navigate into, handling it's session\n",
    "br.open(\"https://cooking.nytimes.com/recipes/1016833-spaghetti-and-drop-meatballs-with-tomato-sauce?action=click&module=Collection%20Page%20Recipe%20Card&region=Our%20Favorite%20Weeknight%20Pastas%20from%20Mark%20Bittman&pgType=collection&rank=2\")\n",
    "\n",
    "# View available forms\n",
    "\n",
    "print br.find_link(text='Email')\n",
    "# # User credentials\n",
    "# # br.form['login'] = 'mylogin'\n",
    "# # br.form['password'] = 'mypass'\n",
    "\n",
    "# # Login\n",
    "# br.submit()\n",
    "\n",
    "# print(br.open('https://github.com/settings/emails').read())"
   ]
  },
  {
   "cell_type": "code",
   "execution_count": null,
   "metadata": {},
   "outputs": [],
   "source": []
  }
 ],
 "metadata": {
  "kernelspec": {
   "display_name": "Python 2",
   "language": "python",
   "name": "python2"
  },
  "language_info": {
   "codemirror_mode": {
    "name": "ipython",
    "version": 2
   },
   "file_extension": ".py",
   "mimetype": "text/x-python",
   "name": "python",
   "nbconvert_exporter": "python",
   "pygments_lexer": "ipython2",
   "version": "2.7.16"
  }
 },
 "nbformat": 4,
 "nbformat_minor": 2
}
